{
 "cells": [
  {
   "cell_type": "code",
   "execution_count": null,
   "id": "cb32aae1",
   "metadata": {},
   "outputs": [],
   "source": [
    "# Importa bibliotecas necessárias\n",
    "import tkinter as tk  # Interface gráfica\n",
    "from tkinter import messagebox  # Caixas de mensagem (alertas)\n",
    "import matplotlib.pyplot as plt  # Criação de gráficos\n",
    "from matplotlib.backends.backend_tkagg import FigureCanvasTkAgg  # Integra matplotlib com Tkinter"
   ]
  },
  {
   "cell_type": "code",
   "execution_count": null,
   "id": "911377ee",
   "metadata": {},
   "outputs": [],
   "source": [
    "# Define os valores de pedágio para cada tipo de veículo\n",
    "valores = {\n",
    "    \"Moto\": 0.00,\n",
    "    \"Carro\": 5.40,\n",
    "    \"Ônibus\": 12.90,\n",
    "    \"Caminhão\": 21.70\n",
    "}"
   ]
  },
  {
   "cell_type": "code",
   "execution_count": null,
   "id": "bad8bd93",
   "metadata": {
    "lines_to_next_cell": 1
   },
   "outputs": [],
   "source": [
    "# Inicializa dicionários para armazenar a quantidade de veículos e o valor arrecadado por tipo\n",
    "quantidades = {tipo: 0 for tipo in valores}\n",
    "arrecadacoes = {tipo: 0.0 for tipo in valores}"
   ]
  },
  {
   "cell_type": "code",
   "execution_count": null,
   "id": "cdad69a9",
   "metadata": {
    "lines_to_next_cell": 1
   },
   "outputs": [],
   "source": [
    "# Função que atualiza o painel lateral com informações gerais e chama a função para atualizar o gráfico\n",
    "def atualizar_dashboard():\n",
    "    total_veiculos = sum(quantidades.values())  # Soma total de veículos\n",
    "    total_arrecadado = sum(arrecadacoes.values())  # Soma total de arrecadação\n",
    "    tipo_mais_arrecadou = max(arrecadacoes, key=arrecadacoes.get)  # Tipo que mais arrecadou\n",
    "\n",
    "    texto = \"\"\n",
    "    for tipo in valores:\n",
    "        texto += f\"{tipo:<10}: {quantidades[tipo]:>3} veículos | R$ {arrecadacoes[tipo]:.2f}\\n\"\n",
    "\n",
    "    texto += \"\\n\"\n",
    "    texto += f\"Total veículos       : {total_veiculos}\\n\"\n",
    "    texto += f\"Total arrecadado     : R$ {total_arrecadado:.2f}\\n\"\n",
    "    texto += f\"💰 Mais arrecadou    : {tipo_mais_arrecadou}\"\n",
    "\n",
    "    painel_status.config(text=texto)  # Atualiza o texto do painel lateral\n",
    "    atualizar_grafico()  # Atualiza o gráfico"
   ]
  },
  {
   "cell_type": "code",
   "execution_count": null,
   "id": "2dfa44ad",
   "metadata": {
    "lines_to_next_cell": 1
   },
   "outputs": [],
   "source": [
    "# Função que registra um veículo, atualiza os valores e mostra mensagem de sucesso\n",
    "def registrar(tipo):\n",
    "    quantidades[tipo] += 1  # Incrementa a quantidade\n",
    "    arrecadacoes[tipo] += valores[tipo]  # Soma o valor ao total arrecadado\n",
    "    atualizar_dashboard()  # Atualiza os dados visuais\n",
    "    messagebox.showinfo(\"Registro\", f\"{tipo} registrado com sucesso!\")  # Alerta de confirmação"
   ]
  },
  {
   "cell_type": "code",
   "execution_count": null,
   "id": "b91800fb",
   "metadata": {
    "lines_to_next_cell": 1
   },
   "outputs": [],
   "source": [
    "# Função que gera e exibe um relatório geral\n",
    "def gerar_relatorio():\n",
    "    total_veiculos = sum(quantidades.values())\n",
    "    total_arrecadado = sum(arrecadacoes.values())\n",
    "    \n",
    "    # Calcula nova tarifa da Moto para aumentar arrecadação em 10%\n",
    "    nova_taxa_moto = ((total_arrecadado * 1.10) - total_arrecadado) / max(quantidades[\"Moto\"], 1)\n",
    "\n",
    "    tipo_mais_arrecadou = max(arrecadacoes, key=arrecadacoes.get)\n",
    "    tipo_maior_qtd = max(quantidades, key=quantidades.get)\n",
    "    tipo_menor_qtd = min(quantidades, key=quantidades.get)\n",
    "\n",
    "    # Monta o texto do relatório\n",
    "    relatorio = \"=== RELATÓRIO GERAL ===\\n\\n\"\n",
    "\n",
    "    for tipo in valores:\n",
    "        relatorio += f\"{tipo}:\\n\"\n",
    "        relatorio += f\" - Quantidade: {quantidades[tipo]}\\n\"\n",
    "        relatorio += f\" - Arrecadação: R$ {arrecadacoes[tipo]:.2f}\\n\\n\"\n",
    "\n",
    "    relatorio += f\"Total de veículos: {total_veiculos}\\n\"\n",
    "    relatorio += f\"Total arrecadado: R$ {total_arrecadado:.2f}\\n\\n\"\n",
    "    relatorio += f\"Tipo que mais arrecadou: {tipo_mais_arrecadou}\\n\"\n",
    "    relatorio += f\"Tipo com maior quantidade: {tipo_maior_qtd}\\n\"\n",
    "    relatorio += f\"Tipo com menor quantidade: {tipo_menor_qtd}\\n\\n\"\n",
    "    relatorio += f\"Nova tarifa da Moto para +10% de arrecadação: R$ {nova_taxa_moto:.2f}\"\n",
    "\n",
    "    messagebox.showinfo(\"Relatório\", relatorio)  # Exibe o relatório"
   ]
  },
  {
   "cell_type": "code",
   "execution_count": null,
   "id": "38a6588e",
   "metadata": {},
   "outputs": [],
   "source": [
    "# === GUI Principal ===\n",
    "janela = tk.Tk()\n",
    "janela.title(\"Sistema de Pedágio - BR 000\")\n",
    "janela.configure(bg=\"#f4f4f4\")\n",
    "janela.geometry(\"920x600\")\n",
    "janela.resizable(False, False)  # Impede redimensionamento da janela"
   ]
  },
  {
   "cell_type": "code",
   "execution_count": null,
   "id": "8adc840b",
   "metadata": {},
   "outputs": [],
   "source": [
    "# Título do sistema\n",
    "tk.Label(janela, text=\"Sistema de Pedágio\", font=(\"Segoe UI\", 20, \"bold\"), bg=\"#f4f4f4\").pack(pady=15)"
   ]
  },
  {
   "cell_type": "code",
   "execution_count": null,
   "id": "be8a8759",
   "metadata": {},
   "outputs": [],
   "source": [
    "# ==== Botões de Registro de veículos ====\n",
    "frame_botoes = tk.Frame(janela, bg=\"#f4f4f4\")\n",
    "frame_botoes.pack(pady=10)"
   ]
  },
  {
   "cell_type": "code",
   "execution_count": null,
   "id": "dbd091dd",
   "metadata": {},
   "outputs": [],
   "source": [
    "# Estilo visual dos botões\n",
    "estilo_btn = {\"width\": 18, \"height\": 2, \"font\": (\"Segoe UI\", 10, \"bold\"), \"bg\": \"#1976D2\", \"fg\": \"white\"}"
   ]
  },
  {
   "cell_type": "code",
   "execution_count": null,
   "id": "150b3c92",
   "metadata": {},
   "outputs": [],
   "source": [
    "# Cria um botão para cada tipo de veículo\n",
    "for tipo in valores:\n",
    "    tk.Button(frame_botoes, text=f\"Registrar {tipo}\", command=lambda t=tipo: registrar(t), **estilo_btn).pack(side=\"left\", padx=10)"
   ]
  },
  {
   "cell_type": "code",
   "execution_count": null,
   "id": "320a88d5",
   "metadata": {},
   "outputs": [],
   "source": [
    "# ==== Painel de Informações e Gráfico ====\n",
    "frame_info = tk.Frame(janela, bg=\"#f4f4f4\")\n",
    "frame_info.pack(pady=10, padx=10, fill=\"both\", expand=True)"
   ]
  },
  {
   "cell_type": "code",
   "execution_count": null,
   "id": "aa2e029c",
   "metadata": {},
   "outputs": [],
   "source": [
    "# Painel lateral com status (quantidades e totais)\n",
    "painel_status = tk.Label(frame_info, text=\"\", font=(\"Courier New\", 11), bg=\"white\", fg=\"black\",\n",
    "                         justify=\"left\", anchor=\"nw\", relief=\"solid\", width=40, height=20, padx=10, pady=10)\n",
    "painel_status.pack(side=\"left\", padx=10)"
   ]
  },
  {
   "cell_type": "code",
   "execution_count": null,
   "id": "78173d81",
   "metadata": {
    "lines_to_next_cell": 1
   },
   "outputs": [],
   "source": [
    "# Área do gráfico (barras horizontais)\n",
    "figura, ax = plt.subplots(figsize=(4.5, 4))  # Tamanho do gráfico\n",
    "canvas = FigureCanvasTkAgg(figura, master=frame_info)\n",
    "canvas.get_tk_widget().pack(side=\"right\", padx=10)"
   ]
  },
  {
   "cell_type": "code",
   "execution_count": null,
   "id": "69dc67dc",
   "metadata": {
    "lines_to_next_cell": 1
   },
   "outputs": [],
   "source": [
    "# Função que atualiza o gráfico de arrecadação\n",
    "def atualizar_grafico():\n",
    "    ax.clear()  # Limpa o gráfico anterior\n",
    "    tipos = list(arrecadacoes.keys())\n",
    "    valores_arrecadados = list(arrecadacoes.values())\n",
    "    cores = ['gray', 'skyblue', 'orange', 'green']\n",
    "    ax.bar(tipos, valores_arrecadados, color=cores)  # Cria gráfico de barras\n",
    "    ax.set_title(\"Arrecadação por Veículo\", fontsize=12)\n",
    "    ax.set_ylabel(\"R$ Arrecadado\")\n",
    "    ax.set_ylim(0, max(valores_arrecadados + [1]) * 1.2)  # Define limite superior do eixo Y\n",
    "    canvas.draw()  # Redesenha o gráfico na interface"
   ]
  },
  {
   "cell_type": "code",
   "execution_count": null,
   "id": "24a1a850",
   "metadata": {},
   "outputs": [],
   "source": [
    "# ==== Botões de Rodapé ====\n",
    "frame_rodape = tk.Frame(janela, bg=\"#f4f4f4\")\n",
    "frame_rodape.pack(pady=10)"
   ]
  },
  {
   "cell_type": "code",
   "execution_count": null,
   "id": "1066069f",
   "metadata": {},
   "outputs": [],
   "source": [
    "# Botão para gerar relatório\n",
    "tk.Button(frame_rodape, text=\"Gerar Relatório\", bg=\"#388E3C\", fg=\"white\", font=(\"Segoe UI\", 10, \"bold\"),\n",
    "          width=20, height=2, command=gerar_relatorio).pack(side=\"left\", padx=10)"
   ]
  },
  {
   "cell_type": "code",
   "execution_count": null,
   "id": "71cad57b",
   "metadata": {},
   "outputs": [],
   "source": [
    "# Botão para sair do sistema\n",
    "tk.Button(frame_rodape, text=\"Sair\", bg=\"#D32F2F\", fg=\"white\", font=(\"Segoe UI\", 10, \"bold\"),\n",
    "          width=20, height=2, command=janela.destroy).pack(side=\"left\", padx=10)"
   ]
  },
  {
   "cell_type": "code",
   "execution_count": null,
   "id": "ee3ca9ea",
   "metadata": {},
   "outputs": [],
   "source": [
    "# Inicializa o painel e gráfico ao abrir o sistema\n",
    "atualizar_dashboard()"
   ]
  },
  {
   "cell_type": "code",
   "execution_count": null,
   "id": "fc6444e0",
   "metadata": {},
   "outputs": [],
   "source": [
    "# Executa a janela principal (loop da interface)\n",
    "janela.mainloop()"
   ]
  }
 ],
 "metadata": {
  "jupytext": {
   "cell_metadata_filter": "-all",
   "main_language": "python",
   "notebook_metadata_filter": "-all"
  }
 },
 "nbformat": 4,
 "nbformat_minor": 5
}
