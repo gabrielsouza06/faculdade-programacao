{
  "nbformat": 4,
  "nbformat_minor": 0,
  "metadata": {
    "colab": {
      "provenance": []
    },
    "kernelspec": {
      "name": "python3",
      "display_name": "Python 3"
    },
    "language_info": {
      "name": "python"
    }
  },
  "cells": [
    {
      "cell_type": "markdown",
      "source": [
        "**UFRB - Universidade Federal do Recôncavo da Bahia**\n",
        "* Curso: BCET - Bacharelado em Ciências Exatas e Tecnológicas\n",
        "* Disciplina: GCET150 Prática - Processamento de Dados I\n",
        "* Professora: Jussara Gomes Machado\n",
        "* Semestre: 2025.1\n",
        "\n",
        "---\n",
        "\n",
        "Para cada questão abaixo, siga as instruções:\n",
        "\n",
        "* Escreva o algoritmo utilizando a *Representação Narrativa*, incluindo sua descrição em forma de comentário no código.\n",
        "\n",
        "* Identifique e classifique as instruções como entrada, processamento e saída.\n",
        "\n",
        "* Implemente o algoritmo na linguagem de programação Python.\n",
        "\n",
        "`NOTA: OBSERVE A QUESTÃO DE EXEMPLO `"
      ],
      "metadata": {
        "id": "F_Pt0lZsQRAR"
      }
    },
    {
      "cell_type": "markdown",
      "source": [
        "**QUESTÃO EXEMPLO**: Escreva um algoritmo que dada a idade de um felino determine a idade equivalente em anos humanos. Utilize a equação: ```Idade Equivalente = 7 * Idade do Gato```\n",
        "\n"
      ],
      "metadata": {
        "id": "othUlMnvTMOd"
      }
    },
    {
      "cell_type": "code",
      "source": [
        "'''\n",
        "ALGORITMO EM DESCRIÇÃO NARRATIVA\n",
        "1. Leia a idade do gato; (ENTRADA)\n",
        "2. Calcule a idade equivalente em anos humanos; (PROCESSAMENTO)\n",
        "3. Mostre a idade equivalente em anos humanos; (SAÍDA)\n",
        "\n",
        "'''\n",
        "\n",
        "# IMPLEMENTAÇÃO EM PYTHON\n",
        "idade_gato = int(input('Digite a idade do gato: '))\n",
        "idade_equivalente = idade_gato * 7\n",
        "print(f'A idade equivalente é {idade_equivalente}')"
      ],
      "metadata": {
        "colab": {
          "base_uri": "https://localhost:8080/"
        },
        "id": "Nfves1GC8Kac",
        "outputId": "c2276350-6f70-439a-b4ae-b4d912ebd3ae"
      },
      "execution_count": null,
      "outputs": [
        {
          "output_type": "stream",
          "name": "stdout",
          "text": [
            "Digite a idade do gato: 1\n",
            "A idade equivalente é 7\n"
          ]
        }
      ]
    },
    {
      "cell_type": "markdown",
      "source": [
        "1. Escreva um programa em Python que recebe o número de hectares de uma plantação e a quantidade de água utilizada em litros e calcula a quantidade de água utilizada por hectare. Este programa poderia ser usado para calcular a eficiência no uso da água na agricultura."
      ],
      "metadata": {
        "id": "d7guufebTKsr"
      }
    },
    {
      "cell_type": "code",
      "execution_count": 2,
      "metadata": {
        "id": "t7xI5iriTKJ5",
        "colab": {
          "base_uri": "https://localhost:8080/"
        },
        "outputId": "11617339-291c-4193-9944-1bd963e7fccf"
      },
      "outputs": [
        {
          "output_type": "stream",
          "name": "stdout",
          "text": [
            "Digite a quantidade de hectares: 10\n",
            "Digite a quantidade de litros de água utilizada: 5\n",
            "A quantidade de água utilizada por hectare é: 2.00 litros\n"
          ]
        }
      ],
      "source": [
        "# Escreva seu código aqui\n",
        "'''\n",
        "LEIA QUANTIDADE DE HECTARES\n",
        "RECEBA A QUANTIDADE DE LITROS DE ÁGUA\n",
        "Calcular a quantidade de água utilizada por hectare dividindo a quantidade total de água pelo número de hectares.\n",
        "Exibir o resultado da divisão.\n",
        "Se a quantidade de hectares for zero, exibir uma mensagem de erro para evitar divisão por zero.'''\n",
        "\n",
        "# Entrada de dados\n",
        "hectares = float(input(\"Digite a quantidade de hectares: \"))\n",
        "agua_litros = float(input(\"Digite a quantidade de litros de água utilizada: \"))\n",
        "\n",
        "if hectares > 0:\n",
        "# Processamento\n",
        "    agua_por_hectare = agua_litros / hectares\n",
        "\n",
        "# Saída\n",
        "    print(f\"A quantidade de água utilizada por hectare é: {agua_por_hectare:.2f} litros\")\n",
        "else:\n",
        "    print(\"Erro: A quantidade de hectares deve ser maior que zero.\")\n",
        "\n",
        "\n"
      ]
    },
    {
      "cell_type": "markdown",
      "source": [
        "2. Escreva um programa em Python que recebe o preço de um produto agrícola, o desconto aplicado e calcula o preço final. Este programa poderia ser usado para calcular o preço final de produtos agrícolas em promoção."
      ],
      "metadata": {
        "id": "TsHpynCCTN0j"
      }
    },
    {
      "cell_type": "code",
      "source": [
        "# Escreva seu código aqui\n",
        "''' RECEBA O PREÇO DO PRODUDO\n",
        "    RECEBA A PORCENTAGEM DO DESCONTO\n",
        "    CAUCULAR O VALOR DO DESCONTO EM CIMA DO VAOR REAL\n",
        "    RECEBER O VALOR DO DESCONTO\n",
        "    EXIBIR O VALOR DO DESCONTO  '''\n",
        "\n",
        "  # Entrada de dados\n",
        "preco_produto = float(input(\"Digite o preço do produto: \"))\n",
        "desconto = float(input(\"Digite o desconto (em porcentagem): \"))\n",
        "\n",
        "# Processamento\n",
        "valor_desconto = (preco_produto * desconto) / 100\n",
        "preco_final = preco_produto - valor_desconto\n",
        "\n",
        "# Saída\n",
        "print(f\"O valor do desconto é: R$ {valor_desconto:.2f}\")\n",
        "print(f\"O preço final do produto é: R$ {preco_final:.2f}\")"
      ],
      "metadata": {
        "id": "nlBdidX3TQYe"
      },
      "execution_count": null,
      "outputs": []
    },
    {
      "cell_type": "markdown",
      "source": [
        "3. Escreva um programa em Python que recebe o comprimento, largura e altura de um terreno e calcula o volume em metros cúbicos. Este programa poderia ser usado para calcular o volume de silos ou reservatórios agrícolas."
      ],
      "metadata": {
        "id": "t0BEFNaBTREK"
      }
    },
    {
      "cell_type": "code",
      "source": [
        "# Escreva seu código aqui\n",
        "''' RECEBE O VALOR DO COMPRIMENTO\n",
        "    RECEBE O VALOR DA LARGURA\n",
        "    RECEBE O VALOR DA ALTURA\n",
        "    CAUCULO (COMPRIMENTO*LARGURA)*ALTURA\n",
        "    SALVA O CAUCULO NA VARIAVEM VOLUME\n",
        "    EXIBA A VARIAVEL VOLUME  '''\n",
        "\n",
        "# Entrada de dados\n",
        "comprimento = float(input(\"Digite o comprimento do terreno: \"))\n",
        "largura = float(input(\"Digite a largura do terreno: \"))\n",
        "altura = float(input(\"Digite a altura do terreno: \"))\n",
        "\n",
        "# Processamento\n",
        "volume = (comprimento * largura) * altura\n",
        "\n",
        "# Saída\n",
        "print(f\"O volume do terreno é: {volume:.2f} metros cúbicos\")"
      ],
      "metadata": {
        "id": "39f1PDShTUiH",
        "colab": {
          "base_uri": "https://localhost:8080/"
        },
        "outputId": "16ebf8e3-21b4-455f-f436-b65e7dc47be3"
      },
      "execution_count": null,
      "outputs": [
        {
          "output_type": "stream",
          "name": "stdout",
          "text": [
            "Digite o comprimento do terreno: 10\n",
            "Digite a largura do terreno: 5\n",
            "Digite a altura do terreno: 6\n",
            "O volume do terreno é: 300.00 metros cúbicos\n"
          ]
        }
      ]
    },
    {
      "cell_type": "markdown",
      "source": [
        "4. Escreva um programa em Python que recebe o número de sacas de café colhidas em uma plantação e o preço por saca, e calcula o valor total da colheita. Este programa poderia ser usado para calcular o valor da colheita de café em uma fazenda."
      ],
      "metadata": {
        "id": "5Rf4TiONTVfi"
      }
    },
    {
      "cell_type": "code",
      "source": [
        "# Escreva seu código aqui\n",
        "''' RECEBER NUMERO DE SACAS DE CAFÉ COLHIDOS\n",
        "    RECEBE O VALOR INDIVIDUAL DE CADA SACA DE CAFÉ\n",
        "    CAUCULA QUANTIDADE DE SACAS DE CAFÉ * VALOR DE CADA SACA DE CAFÉ\n",
        "    RECEBE O VALOR DE DO CAUCULO\n",
        "    EXIBE O VALOR DE CAUCULO '''\n",
        "\n",
        "# Entrada de dados\n",
        "num_sacas = int(input(\"Digite o número de sacas de café colhidas: \"))\n",
        "preco_saca = float(input(\"Digite o preço por saca de café: \"))\n",
        "\n",
        "# Processamento\n",
        "valor_total = num_sacas * preco_saca\n",
        "\n",
        "# Saída\n",
        "print(f\"O valor total da colheita é: R$ {valor_total:.2f}\")"
      ],
      "metadata": {
        "id": "JUrLZXEbTZBX"
      },
      "execution_count": null,
      "outputs": []
    },
    {
      "cell_type": "markdown",
      "source": [
        "5. Escreva um programa em Python que recebe a quantidade de frutas colhidas em uma plantação e o preço por quilo, e calcula o valor total da colheita. Este programa poderia ser usado para calcular o valor da colheita de frutas em uma propriedade agrícola."
      ],
      "metadata": {
        "id": "PDcvads5TZpV"
      }
    },
    {
      "cell_type": "code",
      "source": [
        "# Escreva seu código aqui\n",
        "'''\n",
        "    RECEBE A QUANTIDADE DE FRUTAS\n",
        "    RECEBE A QUANTIDADE DE FRUTAS NECESARIAS PARA FORMAR O KG\n",
        "    RECEBE O VALOR DE KG\n",
        "    CAUCULO QUANTIDADE DE KG PRODUZIDOS * VALOR DE CADA KG\n",
        "    SALVA VALOR DA COLHEITA DE FRUTAS\n",
        "    EXIBE O VALOR DDA COLHEITA DE FRUTAS'''\n",
        "\n",
        "# Entrada de dados\n",
        "qtd_frutas = float(input(\"Digite a quantidade de frutas colhidas: \"))\n",
        "frutas_por_kg = float(input(\"Digite a quantidade de frutas por kg: \"))\n",
        "preco_kg = float(input(\"Digite o preço por kg: \"))\n",
        "\n",
        "# Processamento\n",
        "qtd_kg = qtd_frutas / frutas_por_kg\n",
        "valor_total = qtd_kg * preco_kg\n",
        "\n",
        "# Saída\n",
        "print(f\"O valor total da colheita de frutas é: R$ {valor_total:.2f}\")\n"
      ],
      "metadata": {
        "id": "QckealYETczm",
        "colab": {
          "base_uri": "https://localhost:8080/"
        },
        "outputId": "2ad83332-725b-48d9-ea99-30f475d51240"
      },
      "execution_count": null,
      "outputs": [
        {
          "output_type": "stream",
          "name": "stdout",
          "text": [
            "Digite a quantidade de frutas colhidas: 100\n",
            "Digite a quantidade de frutas por kg: 10\n",
            "Digite o preço por kg: 5\n",
            "O valor total da colheita de frutas é: R$ 50.00\n"
          ]
        }
      ]
    },
    {
      "cell_type": "markdown",
      "source": [
        "6. Escreva um programa que receba o peso de um animal em libras e use operadores aritméticos para convertê-lo em quilogramas. Lembre-se que 1 libra equivale a aproximadamente 0.453592 kg. Este programa poderia ser usado para calcular a dosagem de um medicamento que utilize a libra como unidade de medida."
      ],
      "metadata": {
        "id": "v3kDv95TS7f_"
      }
    },
    {
      "cell_type": "code",
      "source": [
        "# Escreva seu código aqui\n",
        "''' RECEBE O PESSO DE UM ANIMAL\n",
        "    CAUCULE PESSO DO ANIMAL * 0.453592\n",
        "    SAUVE O VALOR DO PESSO DO ANIMAL EM KG\n",
        "    EXIBA O VALOR DO PESSO DO ANIMAL EM KG '''\n",
        "\n",
        "# Entrada de dados\n",
        "peso_libras = float(input(\"Digite o peso do animal em libras: \"))\n",
        "\n",
        "# Processamento\n",
        "peso_kg = peso_libras * 0.453592\n",
        "\n",
        "# Saída\n",
        "print(f\"O peso do animal em kg é: {peso_kg:.2f} kg\")"
      ],
      "metadata": {
        "id": "VpAVhpalTEkm",
        "colab": {
          "base_uri": "https://localhost:8080/"
        },
        "outputId": "6daf76bf-4186-47af-cc2f-dc4c54fa06f5"
      },
      "execution_count": null,
      "outputs": [
        {
          "output_type": "stream",
          "name": "stdout",
          "text": [
            "Digite o peso do animal em libras: 90\n",
            "O peso do animal em kg é: 40.82 kg\n"
          ]
        }
      ]
    },
    {
      "cell_type": "markdown",
      "source": [
        "7. Escreva um programa que ajude a controlar a quantidade de ração consumida por um gato. Receba como entrada o número de refeições diárias de um gato e o total de ração consumida (em gramas por dia). Com base nesses dados, o programa deve calcular e exibir a quantidade média de ração consumida por refeição. Este programa poderia ser usado para controlar o peso de um animal."
      ],
      "metadata": {
        "id": "rUkg8KanVIer"
      }
    },
    {
      "cell_type": "code",
      "source": [
        "# Escreva seu código aqui\n",
        "''' RECEBA O QUANTIDADE DE REFEIÇOES DIARIAS\n",
        "    RECEBA QUANTIDADE DE REÇÃO GASTAS EM UM REFEIÇÃO\n",
        "    CAUCULE A QUANTIDADE DE REÇÃO GASTA EM UM DIA\n",
        "    RECEBA O VALOR DA REÇÃO GASTA EM UM DIA\n",
        "    CAUCULE VALOR DIARIO  / QUANTIDADE DE REFEIÇOES\n",
        "    RECEBA O VALOR MEDIO GASTO EM CADA REFEIÇÃO\n",
        "    EXIBA O VALOR MEDIO GATO E CADA REFEIÇÃO '''\n",
        "\n",
        "# Entrada de dados\n",
        "num_refeicoes = int(input(\"Digite o número de refeições diárias do gato: \"))\n",
        "qtd_racao_dia = float(input(\"Digite a quantidade total de ração consumida por dia (em gramas): \"))\n",
        "\n",
        "# Processamento\n",
        "media_racao = qtd_racao_dia / num_refeicoes\n",
        "\n",
        "# Saída\n",
        "print(f\"A quantidade média de ração consumida por refeição é: {media_racao:.2f} gramas\")"
      ],
      "metadata": {
        "id": "QwsOYanFYPV0",
        "colab": {
          "base_uri": "https://localhost:8080/"
        },
        "outputId": "5336af89-df33-4159-b36e-03b88c6aa9b9"
      },
      "execution_count": null,
      "outputs": [
        {
          "output_type": "stream",
          "name": "stdout",
          "text": [
            "Digite o número de refeições diárias do gato: 10\n",
            "Digite a quantidade total de ração consumida por dia (em gramas): 1000\n",
            "A quantidade média de ração consumida por refeição é: 100.00 gramas\n"
          ]
        }
      ]
    },
    {
      "cell_type": "markdown",
      "source": [
        "8. Escreva um algoritmo que ajude a monitorar a ingestão de água de um cachorro. O programa deve receber como entrada o número de vasilhas de água consumidos ao longo do dia e o volume médio de cada vasilha (em mililitros). Com base nesses dados, calcule e exiba o total de água ingerida no dia."
      ],
      "metadata": {
        "id": "jQTzUF19YKY5"
      }
    },
    {
      "cell_type": "code",
      "source": [
        "# Escreva seu código aqui\n",
        "''' RECEBA A QUANTIDADE DE AGUA EM CADA VASILHAS EM ML\n",
        "    RECEBA A QUANTIDADE DE VASILHAS BEBIDAS EM 1 DIA\n",
        "    CAULE A QUANTIDADE DE VASILHAS * A QUANTIDADE DE ALGUA EM CADA VISILHA\n",
        "     '''\n",
        "# Entrada de dados\n",
        "vol_vasilha = float(input(\"Digite o volume médio de cada vasilha de água (em ml): \"))\n",
        "num_vasilhas = int(input(\"Digite o número de vasilhas de água consumidas ao longo do dia: \"))\n",
        "\n",
        "# Processamento\n",
        "total_agua = vol_vasilha * num_vasilhas\n",
        "\n",
        "# Saída\n",
        "print(f\"O total de água ingerida no dia é: {total_agua:.2f} ml\")"
      ],
      "metadata": {
        "id": "wZuOROSoYQ1k"
      },
      "execution_count": null,
      "outputs": []
    },
    {
      "cell_type": "markdown",
      "source": [
        "9. Escreva um programa que ajude a administrar a medicação de um animal. Receba como entrada a dosagem do medicamento, o peso do animal e a concentração do medicamento. Calcule a quantidade correta a ser administrada com base na equação:\n",
        "\n",
        "``` Quantidade Correta = (Peso * Dosagem) / Concentração```\n",
        "\n"
      ],
      "metadata": {
        "id": "AVca9S_CVdLA"
      }
    },
    {
      "cell_type": "code",
      "source": [
        "# Escreva seu código aqui\n",
        "''' RECEBA A DOSASEM DO MEDICAMENTO\n",
        "    RECEBA O PESSO DO ANIVAL\n",
        "    RECEBA A CONCENTRAÇÃO DO MEDICAMENTO\n",
        "    CAUCULE  Quantidade Correta = (Peso * Dosagem) / Concentração\n",
        "    RECEBA A QUANTIDADE CORRETA DO MEDICAMENTO\n",
        "    EXIBA A QUANTIDADE CORRETA DO MEDICAMENTO'''\n",
        "\n",
        "# Entrada de dados\n",
        "dosagem = float(input(\"Digite a dosagem do medicamento: \"))\n",
        "peso_animal = float(input(\"Digite o peso do animal: \"))\n",
        "concentracao = float(input(\"Digite a concentração do medicamento: \"))\n",
        "\n",
        "# Processamento\n",
        "qtd_correta = (peso_animal * dosagem) / concentracao\n",
        "\n",
        "# Saída\n",
        "print(f\"A quantidade correta a ser administrada é: {qtd_correta:.2f}\")"
      ],
      "metadata": {
        "id": "J2QmA4MrYT-r",
        "colab": {
          "base_uri": "https://localhost:8080/"
        },
        "outputId": "7fbbe3e2-071e-4b5a-e189-bf04f5bd6e22"
      },
      "execution_count": null,
      "outputs": [
        {
          "output_type": "stream",
          "name": "stdout",
          "text": [
            "Digite a dosagem do medicamento: 50\n",
            "Digite o peso do animal: 20\n",
            "Digite a concentração do medicamento: 80\n",
            "A quantidade correta a ser administrada é: 12.50\n"
          ]
        }
      ]
    },
    {
      "cell_type": "markdown",
      "source": [
        "10. Escreva um programa que ajude a monitorar a rotina de exercícios do seu pet. O programa deve receber como entrada o tempo total de caminhadas realizadas ao longo da semana (em minutos). Em seguida, deve calcular e exibir a média diária de tempo gasto por dia. Este programa pode ser utilizado como ferramenta para manter o peso ideal de um animal doméstico."
      ],
      "metadata": {
        "id": "cZoOEGX7XqNw"
      }
    },
    {
      "cell_type": "code",
      "source": [
        "# Escreva seu código aqui\n",
        "''' RECEBA O VALOR DO DIA 1 AU DIA 7\n",
        "    AGRUPR O TEMPO TOTAL DE CAMINHADA REALIZADA EM 1 SEMANA\n",
        "    CAUCULE A QUANTIDADEE DE CAMINHADA REALIZADA EM 1 SEMANA / 7\n",
        "    RECEBA O VALOR DA MEDIA DE CAMINHADAS REALIZADAS\n",
        "    EXIBA O VALOR DA MEDIA DE CAMINHAS  '''\n",
        "\n",
        "  # Entrada de dados\n",
        "\n",
        "dia1 = float(input(\"Digite o tempo total de caminhadas realizadas na semana (em minutos): \"))\n",
        "dia2 = float(input(\"Digite o tempo total de caminhadas realizadas na semana (em minutos): \"))\n",
        "dia3 = float(input(\"Digite o tempo total de caminhadas realizadas na semana (em minutos): \"))\n",
        "dia4 = float(input(\"Digite o tempo total de caminhadas realizadas na semana (em minutos): \"))\n",
        "dia5 = float(input(\"Digite o tempo total de caminhadas realizadas na semana (em minutos): \"))\n",
        "dia6 = float(input(\"Digite o tempo total de caminhadas realizadas na semana (em minutos): \"))\n",
        "dia7 = float(input(\"Digite o tempo total de caminhadas realizadas na semana (em minutos): \"))\n",
        "\n",
        "    # Processamento\n",
        "media_diaria = dia1 + dia2 + dia3 + dia4 + dia5 + dia6 + dia7 / 7\n",
        "\n",
        "    # Saída\n",
        "\n",
        "print(f\"A média diária de tempo gasto em caminhadas é: {media_diaria:.2f} minutos\")"
      ],
      "metadata": {
        "id": "bQO0AHTFYVok",
        "colab": {
          "base_uri": "https://localhost:8080/"
        },
        "outputId": "fb4d8040-98cd-4f15-a771-c983eba33d2a"
      },
      "execution_count": null,
      "outputs": [
        {
          "output_type": "stream",
          "name": "stdout",
          "text": [
            "Digite o tempo total de caminhadas realizadas na semana (em minutos): 5\n",
            "Digite o tempo total de caminhadas realizadas na semana (em minutos): 5\n",
            "Digite o tempo total de caminhadas realizadas na semana (em minutos): 5\n",
            "Digite o tempo total de caminhadas realizadas na semana (em minutos): 5\n",
            "Digite o tempo total de caminhadas realizadas na semana (em minutos): 5\n",
            "Digite o tempo total de caminhadas realizadas na semana (em minutos): 5\n",
            "Digite o tempo total de caminhadas realizadas na semana (em minutos): 5\n",
            "A média diária de tempo gasto em caminhadas é: 30.71 minutos\n"
          ]
        }
      ]
    }
  ]
}